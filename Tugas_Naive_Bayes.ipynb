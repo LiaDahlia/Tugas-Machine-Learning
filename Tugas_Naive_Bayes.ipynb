{
  "nbformat": 4,
  "nbformat_minor": 0,
  "metadata": {
    "colab": {
      "name": "Tugas_Naive_Bayes.ipynb",
      "provenance": [],
      "authorship_tag": "ABX9TyPTpl5uzKcDd3PNICNpArKG",
      "include_colab_link": true
    },
    "kernelspec": {
      "name": "python3",
      "display_name": "Python 3"
    }
  },
  "cells": [
    {
      "cell_type": "markdown",
      "metadata": {
        "id": "view-in-github",
        "colab_type": "text"
      },
      "source": [
        "<a href=\"https://colab.research.google.com/github/LiaDahlia/Tugas-Machine-Learning/blob/main/Tugas_Naive_Bayes.ipynb\" target=\"_parent\"><img src=\"https://colab.research.google.com/assets/colab-badge.svg\" alt=\"Open In Colab\"/></a>"
      ]
    },
    {
      "cell_type": "code",
      "metadata": {
        "id": "sA_DFIWBY457"
      },
      "source": [
        "#Dataset\r\n",
        "outlook=['Sunny','Sunny','Overcast','Rain','Rain','Rain','Overcast','Sunny','Sunny','Rain','Sunny','Overcast','Overcast','Rain']\r\n",
        "temperature=['Hot','Hot','Mild','Mild','Cool','Cool','Cool','Mild','Cool','Mild','Mild','Mild','Mild','Mild']\r\n",
        "humidity=['High','High','High','High','Normal','Normal','Normal','High','Normal','Normal','Normal','High','Normal','High']\r\n",
        "wind=['Weak','Strong','Weak','Weak','Weak','Strong','Strong','Weak','Weak','Weak','Strong','Strong','Weak','Strong']\r\n",
        "\r\n",
        "play=['No','No','Yes','Yes','Yes','No','Yes','No','Yes','Yes','Yes','Yes','Yes','No']"
      ],
      "execution_count": 1,
      "outputs": []
    },
    {
      "cell_type": "code",
      "metadata": {
        "colab": {
          "base_uri": "https://localhost:8080/"
        },
        "id": "TlVOAWmhfzby",
        "outputId": "755cb992-72b4-435a-e080-46602a68b67e"
      },
      "source": [
        "#Import LabelEncoder\r\n",
        "from sklearn import preprocessing\r\n",
        "#creating labelEncoder\r\n",
        "le = preprocessing.LabelEncoder()\r\n",
        "#Convert label string ke numbers\r\n",
        "outlook_encoded=le.fit_transform(outlook)\r\n",
        "print (outlook_encoded)"
      ],
      "execution_count": 2,
      "outputs": [
        {
          "output_type": "stream",
          "text": [
            "[2 2 0 1 1 1 0 2 2 1 2 0 0 1]\n"
          ],
          "name": "stdout"
        }
      ]
    },
    {
      "cell_type": "code",
      "metadata": {
        "colab": {
          "base_uri": "https://localhost:8080/"
        },
        "id": "_XDm1pGRgDhk",
        "outputId": "a5510e98-bc6b-4d54-f865-ce502a0894ea"
      },
      "source": [
        "#Import LabelEncoder\r\n",
        "from sklearn import preprocessing\r\n",
        "#creating labelEncoder\r\n",
        "le = preprocessing.LabelEncoder()\r\n",
        "#Convert label string ke numbers\r\n",
        "temperature_encoded=le.fit_transform(temperature)\r\n",
        "print (temperature_encoded)"
      ],
      "execution_count": 4,
      "outputs": [
        {
          "output_type": "stream",
          "text": [
            "[1 1 2 2 0 0 0 2 0 2 2 2 2 2]\n"
          ],
          "name": "stdout"
        }
      ]
    },
    {
      "cell_type": "code",
      "metadata": {
        "colab": {
          "base_uri": "https://localhost:8080/"
        },
        "id": "z0e5bkKugowc",
        "outputId": "0a79ccad-00c9-4ecb-e77b-0e66b7505ebb"
      },
      "source": [
        "#Import LabelEncoder\r\n",
        "from sklearn import preprocessing\r\n",
        "#creating labelEncoder\r\n",
        "le = preprocessing.LabelEncoder()\r\n",
        "#Convert label string ke numbers\r\n",
        "humidity_encoded=le.fit_transform(humidity)\r\n",
        "print (humidity_encoded)"
      ],
      "execution_count": 5,
      "outputs": [
        {
          "output_type": "stream",
          "text": [
            "[0 0 0 0 1 1 1 0 1 1 1 0 1 0]\n"
          ],
          "name": "stdout"
        }
      ]
    },
    {
      "cell_type": "code",
      "metadata": {
        "colab": {
          "base_uri": "https://localhost:8080/"
        },
        "id": "kVYYmkI5gyli",
        "outputId": "9d38f1dd-9956-4e86-ea50-516cedcd38ca"
      },
      "source": [
        "#Import LabelEncoder\r\n",
        "from sklearn import preprocessing\r\n",
        "#creating labelEncoder\r\n",
        "label = preprocessing.LabelEncoder()\r\n",
        "#Convert label string ke numbers\r\n",
        "wind_encoded=label.fit_transform(wind)\r\n",
        "print (wind_encoded) #0 Kick 1 Punch 2 Special\r\n",
        "\r\n",
        "play_encoded=label.fit_transform(play)\r\n",
        "print (play_encoded) #0 Kick 1 Punch 2 Special"
      ],
      "execution_count": 7,
      "outputs": [
        {
          "output_type": "stream",
          "text": [
            "[1 0 1 1 1 0 0 1 1 1 0 0 1 0]\n",
            "[0 0 1 1 1 0 1 0 1 1 1 1 1 0]\n"
          ],
          "name": "stdout"
        }
      ]
    },
    {
      "cell_type": "code",
      "metadata": {
        "colab": {
          "base_uri": "https://localhost:8080/"
        },
        "id": "hw00Qb7fhLR3",
        "outputId": "4dcd6f5d-f4bc-4cc1-c193-828b4d2d27a9"
      },
      "source": [
        "print (\"Outlook    :\",outlook_encoded)\r\n",
        "print (\"Temperature:\",temperature_encoded)\r\n",
        "print (\"Humidity   :\",humidity_encoded)\r\n",
        "print (\"Wind       :\",wind_encoded)\r\n",
        "print (\"Play       :\",play_encoded)"
      ],
      "execution_count": 9,
      "outputs": [
        {
          "output_type": "stream",
          "text": [
            "Outlook    : [2 2 0 1 1 1 0 2 2 1 2 0 0 1]\n",
            "Temperature: [1 1 2 2 0 0 0 2 0 2 2 2 2 2]\n",
            "Humidity   : [0 0 0 0 1 1 1 0 1 1 1 0 1 0]\n",
            "Wind       : [1 0 1 1 1 0 0 1 1 1 0 0 1 0]\n",
            "Play       : [0 0 1 1 1 0 1 0 1 1 1 1 1 0]\n"
          ],
          "name": "stdout"
        }
      ]
    },
    {
      "cell_type": "code",
      "metadata": {
        "colab": {
          "base_uri": "https://localhost:8080/"
        },
        "id": "ml83aEl8jwHm",
        "outputId": "f3d45a23-3673-4439-b935-bf69dd2c4b80"
      },
      "source": [
        "#Combining fitur-fitur yang ada\r\n",
        "features=zip(outlook_encoded,temperature_encoded,humidity_encoded,wind_encoded)\r\n",
        "features=list(features)\r\n",
        "print (tuple(features))"
      ],
      "execution_count": 10,
      "outputs": [
        {
          "output_type": "stream",
          "text": [
            "((2, 1, 0, 1), (2, 1, 0, 0), (0, 2, 0, 1), (1, 2, 0, 1), (1, 0, 1, 1), (1, 0, 1, 0), (0, 0, 1, 0), (2, 2, 0, 1), (2, 0, 1, 1), (1, 2, 1, 1), (2, 2, 1, 0), (0, 2, 0, 0), (0, 2, 1, 1), (1, 2, 0, 0))\n"
          ],
          "name": "stdout"
        }
      ]
    },
    {
      "cell_type": "code",
      "metadata": {
        "colab": {
          "base_uri": "https://localhost:8080/"
        },
        "id": "dSxSKTOJkBpd",
        "outputId": "7481ff2a-06d7-45c1-e6da-25a8f3d7078a"
      },
      "source": [
        "#Import Gaussian Naive Bayes model\r\n",
        "from sklearn.naive_bayes import GaussianNB\r\n",
        "\r\n",
        "#Panggil Gaussian Classifier\r\n",
        "model = GaussianNB()\r\n",
        "\r\n",
        "#Train model untuk data training\r\n",
        "model.fit(features,play)\r\n",
        "#Model.fit(features,label.reshape(-1,1))\r\n",
        "\r\n",
        "#Peridiction Output\r\n",
        "predicted = model.predict([[0,1,0,0]]) #0:Overcast 1:Hot 0:Humidity 0:Strong\r\n",
        "print (\"Hasil Perdiksi:\", predicted)"
      ],
      "execution_count": 11,
      "outputs": [
        {
          "output_type": "stream",
          "text": [
            "Hasil Perdiksi: ['Yes']\n"
          ],
          "name": "stdout"
        }
      ]
    }
  ]
}